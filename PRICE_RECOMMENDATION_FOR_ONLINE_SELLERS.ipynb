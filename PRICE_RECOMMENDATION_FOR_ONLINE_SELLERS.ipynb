{
 "cells": [
  {
   "cell_type": "markdown",
   "metadata": {
    "id": "mpWDeQuz3GnY"
   },
   "source": [
    "**IMPORTING REQUIRED LIBRARIES**"
   ]
  },
  {
   "cell_type": "code",
   "execution_count": 2,
   "metadata": {
    "id": "hRJmy2gs3G5l"
   },
   "outputs": [],
   "source": [
    "import pandas as pd\n",
    "import numpy as np\n",
    "import matplotlib.pyplot as plt\n",
    "from sklearn.model_selection import train_test_split\n",
    "from xgboost import XGBRegressor\n",
    "from sklearn.metrics import mean_squared_error\n",
    "import re\n",
    "import warnings\n",
    "warnings.simplefilter(\"ignore\")"
   ]
  },
  {
   "cell_type": "markdown",
   "metadata": {
    "id": "JpHi1tK43TpF"
   },
   "source": [
    "**LOADING THE AMAZON PRODUCTS DATASET**"
   ]
  },
  {
   "cell_type": "code",
   "execution_count": 3,
   "metadata": {
    "colab": {
     "base_uri": "https://localhost:8080/"
    },
    "id": "SAORDclx3T2Q",
    "outputId": "a40f56fe-383c-4ab3-a5e7-4ac71e067e60"
   },
   "outputs": [
    {
     "name": "stdout",
     "output_type": "stream",
     "text": [
      "<class 'pandas.core.frame.DataFrame'>\n",
      "RangeIndex: 1465 entries, 0 to 1464\n",
      "Data columns (total 16 columns):\n",
      " #   Column               Non-Null Count  Dtype \n",
      "---  ------               --------------  ----- \n",
      " 0   product_id           1465 non-null   object\n",
      " 1   product_name         1465 non-null   object\n",
      " 2   category             1465 non-null   object\n",
      " 3   discounted_price     1465 non-null   object\n",
      " 4   actual_price         1465 non-null   object\n",
      " 5   discount_percentage  1465 non-null   object\n",
      " 6   rating               1465 non-null   object\n",
      " 7   rating_count         1463 non-null   object\n",
      " 8   about_product        1465 non-null   object\n",
      " 9   user_id              1465 non-null   object\n",
      " 10  user_name            1465 non-null   object\n",
      " 11  review_id            1465 non-null   object\n",
      " 12  review_title         1465 non-null   object\n",
      " 13  review_content       1465 non-null   object\n",
      " 14  img_link             1465 non-null   object\n",
      " 15  product_link         1465 non-null   object\n",
      "dtypes: object(16)\n",
      "memory usage: 183.2+ KB\n",
      "None\n",
      "(1465, 16)\n"
     ]
    }
   ],
   "source": [
    "dt = pd.read_csv(r\"C:\\Users\\HP\\Downloads\\archive (14)\\amazon.csv\")\n",
    "print(dt.info())\n",
    "print(dt.shape)"
   ]
  },
  {
   "cell_type": "markdown",
   "metadata": {
    "id": "uF8YJmdX4Q0s"
   },
   "source": [
    "**DATA PREPROCESSING**"
   ]
  },
  {
   "cell_type": "markdown",
   "metadata": {
    "id": "R_UEH96U56Bx"
   },
   "source": [
    "1) Handling Missing Values"
   ]
  },
  {
   "cell_type": "code",
   "execution_count": 4,
   "metadata": {
    "colab": {
     "base_uri": "https://localhost:8080/"
    },
    "id": "C_jNSRKB4RDt",
    "outputId": "7434d3fc-ceda-40ba-eadf-7fa252992eab"
   },
   "outputs": [
    {
     "name": "stdout",
     "output_type": "stream",
     "text": [
      "Shape of Dataset before Removing Missing Values (1465, 16)\n",
      "Null Count is:  2\n",
      "Shape of Dataset after Removing Missing Values (1463, 16)\n",
      "Null Count is:  0\n"
     ]
    }
   ],
   "source": [
    "if dt.isna().sum().sum() == 0:\n",
    "  print(\"No Missing Values in the Dataset\")\n",
    "else:\n",
    "  print(\"Shape of Dataset before Removing Missing Values\",dt.shape)\n",
    "  print(\"Null Count is: \",dt.isna().sum().sum())\n",
    "  dt = dt.dropna(axis=0, how=\"any\")\n",
    "  print(\"Shape of Dataset after Removing Missing Values\",dt.shape)\n",
    "  print(\"Null Count is: \",dt.isna().sum().sum())"
   ]
  },
  {
   "cell_type": "markdown",
   "metadata": {
    "id": "G-6-UMto5qF6"
   },
   "source": [
    "2) Removing Unnecessary Features"
   ]
  },
  {
   "cell_type": "code",
   "execution_count": 5,
   "metadata": {
    "colab": {
     "base_uri": "https://localhost:8080/"
    },
    "id": "FtFqmGoa6EVb",
    "outputId": "fb270198-7443-4a81-dace-f61aa7cc4332"
   },
   "outputs": [
    {
     "name": "stdout",
     "output_type": "stream",
     "text": [
      "Shape of the Dataset before Removing unnecessary features:  (1463, 16)\n",
      "Shape of the Dataset after Removing unnecessary features:  (1463, 10)\n",
      "Null Count is:  0\n"
     ]
    }
   ],
   "source": [
    "columns_to_drop = [\"product_id\",\"user_id\",\"user_name\",\"review_id\",\"img_link\",\"product_link\"]\n",
    "print(\"Shape of the Dataset before Removing unnecessary features: \",dt.shape)\n",
    "dt = dt.drop(columns=columns_to_drop, axis=1)\n",
    "print(\"Shape of the Dataset after Removing unnecessary features: \",dt.shape)\n",
    "print(\"Null Count is: \",dt.isna().sum().sum())"
   ]
  },
  {
   "cell_type": "code",
   "execution_count": 6,
   "metadata": {
    "colab": {
     "base_uri": "https://localhost:8080/"
    },
    "id": "zGUKYaCu7R_6",
    "outputId": "63340c13-05f2-49ec-e633-4d5c2613ab5d"
   },
   "outputs": [
    {
     "name": "stdout",
     "output_type": "stream",
     "text": [
      "<class 'pandas.core.frame.DataFrame'>\n",
      "Index: 1463 entries, 0 to 1464\n",
      "Data columns (total 10 columns):\n",
      " #   Column               Non-Null Count  Dtype \n",
      "---  ------               --------------  ----- \n",
      " 0   product_name         1463 non-null   object\n",
      " 1   category             1463 non-null   object\n",
      " 2   discounted_price     1463 non-null   object\n",
      " 3   actual_price         1463 non-null   object\n",
      " 4   discount_percentage  1463 non-null   object\n",
      " 5   rating               1463 non-null   object\n",
      " 6   rating_count         1463 non-null   object\n",
      " 7   about_product        1463 non-null   object\n",
      " 8   review_title         1463 non-null   object\n",
      " 9   review_content       1463 non-null   object\n",
      "dtypes: object(10)\n",
      "memory usage: 125.7+ KB\n",
      "None\n",
      "product_name           object\n",
      "category               object\n",
      "discounted_price       object\n",
      "actual_price           object\n",
      "discount_percentage    object\n",
      "rating                 object\n",
      "rating_count           object\n",
      "about_product          object\n",
      "review_title           object\n",
      "review_content         object\n",
      "dtype: object\n",
      "Null Count is:  0\n"
     ]
    }
   ],
   "source": [
    "print(dt.info())\n",
    "print(dt.dtypes)\n",
    "print(\"Null Count is: \",dt.isna().sum().sum())"
   ]
  },
  {
   "cell_type": "markdown",
   "metadata": {
    "id": "g-l4uMwu8Ggg"
   },
   "source": [
    "3) Converting Necessary Features into Numerical"
   ]
  },
  {
   "cell_type": "code",
   "execution_count": 7,
   "metadata": {
    "colab": {
     "base_uri": "https://localhost:8080/"
    },
    "id": "wwQxH_DI8rXx",
    "outputId": "92a67737-a69c-46a7-a940-1f43114dfbb9"
   },
   "outputs": [
    {
     "name": "stdout",
     "output_type": "stream",
     "text": [
      "Shape of the Dataset (1463, 10)\n",
      "Null Count is:  0\n",
      "Data Types are:  product_name            object\n",
      "category                object\n",
      "discounted_price       float64\n",
      "actual_price           float64\n",
      "discount_percentage      int64\n",
      "rating                 float64\n",
      "rating_count             int64\n",
      "about_product           object\n",
      "review_title            object\n",
      "review_content          object\n",
      "dtype: object\n",
      "Null Values Count:  1\n",
      "Shape of the Dataset (1463, 10)\n",
      "Null Values Count:  0\n"
     ]
    }
   ],
   "source": [
    "print(\"Shape of the Dataset\",dt.shape)\n",
    "print(\"Null Count is: \",dt.isna().sum().sum())\n",
    "\n",
    "\n",
    "# Remove unwanted characters and convert to numeric\n",
    "dt[\"discounted_price\"] = pd.to_numeric(dt[\"discounted_price\"].str.replace('[^0-9.]', '', regex=True), errors='coerce')\n",
    "dt[\"actual_price\"] = pd.to_numeric(dt[\"actual_price\"].str.replace('[^0-9.]', '', regex=True), errors='coerce')\n",
    "dt[\"discount_percentage\"] = pd.to_numeric(dt[\"discount_percentage\"].str.replace('%', '', regex=False), errors='coerce')\n",
    "dt[\"rating\"] = pd.to_numeric(dt[\"rating\"], errors='coerce')\n",
    "dt[\"rating_count\"] = pd.to_numeric(dt[\"rating_count\"].str.replace(',', ''), errors='coerce')\n",
    "\n",
    "print(\"Data Types are: \",dt.dtypes)\n",
    "print(\"Null Values Count: \",dt.isna().sum().sum())\n",
    "print(\"Shape of the Dataset\",dt.shape)\n",
    "dt = dt.dropna(axis=0)\n",
    "print(\"Null Values Count: \",dt.isna().sum().sum())"
   ]
  },
  {
   "cell_type": "markdown",
   "metadata": {
    "id": "yzjZFzmaGpZz"
   },
   "source": [
    "**PROCESSING THE DATA OF ABOUT_PRODUCT, REVIEW_TITLE AND REVIEW CONTENT**"
   ]
  },
  {
   "cell_type": "markdown",
   "metadata": {
    "id": "qCp0guRaIK1Y"
   },
   "source": [
    "1) Import Required Libraries"
   ]
  },
  {
   "cell_type": "code",
   "execution_count": 8,
   "metadata": {
    "id": "GMn5O2C_Gpnc"
   },
   "outputs": [],
   "source": [
    "import nltk\n",
    "from nltk.corpus import stopwords\n",
    "from nltk.tokenize import word_tokenize\n",
    "from nltk.stem import PorterStemmer\n",
    "from sklearn.feature_extraction.text import TfidfVectorizer"
   ]
  },
  {
   "cell_type": "markdown",
   "metadata": {
    "id": "RBa6sDBRISJW"
   },
   "source": [
    "2) Downloading the nltk Resources"
   ]
  },
  {
   "cell_type": "code",
   "execution_count": 9,
   "metadata": {
    "colab": {
     "base_uri": "https://localhost:8080/"
    },
    "id": "74HVFuFyISWC",
    "outputId": "c6244597-6f9a-4fc2-8221-09e6a8d994fe"
   },
   "outputs": [
    {
     "name": "stderr",
     "output_type": "stream",
     "text": [
      "[nltk_data] Downloading package punkt to\n",
      "[nltk_data]     C:\\Users\\HP\\AppData\\Roaming\\nltk_data...\n",
      "[nltk_data]   Package punkt is already up-to-date!\n",
      "[nltk_data] Downloading package stopwords to\n",
      "[nltk_data]     C:\\Users\\HP\\AppData\\Roaming\\nltk_data...\n",
      "[nltk_data]   Package stopwords is already up-to-date!\n"
     ]
    },
    {
     "data": {
      "text/plain": [
       "True"
      ]
     },
     "execution_count": 9,
     "metadata": {},
     "output_type": "execute_result"
    }
   ],
   "source": [
    "# Download NLTK resources\n",
    "nltk.download('punkt')\n",
    "nltk.download('stopwords')"
   ]
  },
  {
   "cell_type": "markdown",
   "metadata": {
    "id": "D6cFM3gtIaWd"
   },
   "source": [
    "3) Considering stop words"
   ]
  },
  {
   "cell_type": "code",
   "execution_count": 10,
   "metadata": {
    "id": "8jxJvG5-IakY"
   },
   "outputs": [],
   "source": [
    "# Tokenization and removing stop words\n",
    "stop_words = set(stopwords.words('english'))"
   ]
  },
  {
   "cell_type": "markdown",
   "metadata": {
    "id": "7HP4eqcRInEJ"
   },
   "source": [
    "4) Defining the function to process the text data like converting into lower cases"
   ]
  },
  {
   "cell_type": "code",
   "execution_count": 11,
   "metadata": {
    "id": "uFmKu4BQInRD"
   },
   "outputs": [],
   "source": [
    "def preprocess_text(text):\n",
    "    words = word_tokenize(text.lower())  # Tokenization and convert to lowercase\n",
    "    filtered_words = [word for word in words if word.isalpha() and word not in stop_words]\n",
    "    return ' '.join(filtered_words)"
   ]
  },
  {
   "cell_type": "markdown",
   "metadata": {
    "id": "8sYLCQU7IzU8"
   },
   "source": [
    "5) Applying the function to three features about_product, review_title, review_content"
   ]
  },
  {
   "cell_type": "code",
   "execution_count": 12,
   "metadata": {
    "id": "Q0IaBCVQIzkx"
   },
   "outputs": [],
   "source": [
    "dt['product_name'] = dt['product_name'].apply(preprocess_text)\n",
    "dt['category'] = dt['category'].apply(preprocess_text)\n",
    "dt['about_product'] = dt['about_product'].apply(preprocess_text)\n",
    "dt['review_title'] = dt['review_title'].apply(preprocess_text)\n",
    "dt['review_content'] = dt['review_content'].apply(preprocess_text)"
   ]
  },
  {
   "cell_type": "markdown",
   "metadata": {
    "id": "Y-VYXa7VJAEn"
   },
   "source": [
    "6) Creating the Object for PorterStemmer and Defining the function to find the root words, and then applying the function to the same three attributes"
   ]
  },
  {
   "cell_type": "code",
   "execution_count": 13,
   "metadata": {
    "id": "a6DsugTOJASf"
   },
   "outputs": [],
   "source": [
    "# Using Porter Stemmer for stemming\n",
    "stemmer = PorterStemmer()\n",
    "\n",
    "def stem_text(text):\n",
    "    return ' '.join([stemmer.stem(word) for word in word_tokenize(text)])\n",
    "\n",
    "dt['product_name'] = dt['product_name'].apply(stem_text)\n",
    "dt['category'] = dt['category'].apply(stem_text)\n",
    "dt['about_product'] = dt['about_product'].apply(stem_text)\n",
    "dt['review_title'] = dt['review_title'].apply(stem_text)\n",
    "dt['review_content'] = dt['review_content'].apply(stem_text)"
   ]
  },
  {
   "cell_type": "markdown",
   "metadata": {
    "id": "wwptrmKHJWbk"
   },
   "source": [
    "7) Vectorization , Convertion the text into Numerical Values and concatination"
   ]
  },
  {
   "cell_type": "code",
   "execution_count": 14,
   "metadata": {
    "id": "kcLGK5tGJWot"
   },
   "outputs": [],
   "source": [
    "from sklearn.feature_extraction.text import TfidfVectorizer\n",
    "\n",
    "# Define the vectorizer\n",
    "tfidf_vectorizer = TfidfVectorizer(max_features=1000)  # You can adjust max_features as needed\n",
    "\n",
    "# Apply vectorization to each text column\n",
    "about_product_tfidf = tfidf_vectorizer.fit_transform(dt['about_product']).toarray()\n",
    "review_title_tfidf = tfidf_vectorizer.fit_transform(dt['review_title']).toarray()\n",
    "review_content_tfidf = tfidf_vectorizer.fit_transform(dt['review_content']).toarray()\n",
    "\n",
    "# Create new DataFrames for the vectorized text columns\n",
    "about_product_df = pd.DataFrame(about_product_tfidf, columns=[f'about_product_{i}' for i in range(about_product_tfidf.shape[1])])\n",
    "review_title_df = pd.DataFrame(review_title_tfidf, columns=[f'review_title_{i}' for i in range(review_title_tfidf.shape[1])])\n",
    "review_content_df = pd.DataFrame(review_content_tfidf, columns=[f'review_content_{i}' for i in range(review_content_tfidf.shape[1])])\n",
    "\n",
    "# Overwrite the original columns with vectorized values\n",
    "dt['about_product'] = about_product_df.values.tolist()\n",
    "dt['review_title'] = review_title_df.values.tolist()\n",
    "dt['review_content'] = review_content_df.values.tolist()\n"
   ]
  },
  {
   "cell_type": "code",
   "execution_count": 15,
   "metadata": {
    "colab": {
     "base_uri": "https://localhost:8080/"
    },
    "id": "M3LEf7r1HIgF",
    "outputId": "aae3e8b9-8979-4aad-eafa-f3f045a47d88"
   },
   "outputs": [
    {
     "name": "stdout",
     "output_type": "stream",
     "text": [
      "0\n",
      "product_name            object\n",
      "category                object\n",
      "discounted_price       float64\n",
      "actual_price           float64\n",
      "discount_percentage      int64\n",
      "rating                 float64\n",
      "rating_count             int64\n",
      "about_product           object\n",
      "review_title            object\n",
      "review_content          object\n",
      "dtype: object\n"
     ]
    }
   ],
   "source": [
    "print(dt.isna().sum().sum())\n",
    "print(dt.dtypes)"
   ]
  },
  {
   "cell_type": "markdown",
   "metadata": {
    "id": "Pm3mPFAa5wPV"
   },
   "source": [
    "**HANDLING THE LIST DATATYPE TO SUM VALUE**"
   ]
  },
  {
   "cell_type": "code",
   "execution_count": 16,
   "metadata": {
    "colab": {
     "base_uri": "https://localhost:8080/"
    },
    "id": "FKMmgCLL5woX",
    "outputId": "fa69cb84-ee3b-4bf6-8854-63331a43b944"
   },
   "outputs": [
    {
     "name": "stdout",
     "output_type": "stream",
     "text": [
      "0       6.406571\n",
      "1       6.061835\n",
      "2       7.701186\n",
      "3       7.213303\n",
      "4       5.997835\n",
      "          ...   \n",
      "1460    3.826340\n",
      "1461    1.638767\n",
      "1462    4.024213\n",
      "1463    5.815984\n",
      "1464    4.679313\n",
      "Name: about_product, Length: 1462, dtype: float64\n",
      "0       3.205097\n",
      "1       3.454594\n",
      "2       3.098753\n",
      "3       3.645471\n",
      "4       3.454400\n",
      "          ...   \n",
      "1460    3.254151\n",
      "1461    4.678732\n",
      "1462    2.821205\n",
      "1463    2.855877\n",
      "1464    3.159813\n",
      "Name: review_title, Length: 1462, dtype: float64\n",
      "0       5.079742\n",
      "1       6.691733\n",
      "2       2.946653\n",
      "3       5.483776\n",
      "4       7.155735\n",
      "          ...   \n",
      "1460    5.550665\n",
      "1461    6.906350\n",
      "1462    6.410972\n",
      "1463    3.816183\n",
      "1464    6.898724\n",
      "Name: review_content, Length: 1462, dtype: float64\n"
     ]
    }
   ],
   "source": [
    "df = dt[\"about_product\"]\n",
    "\n",
    "for i in df.index:\n",
    "    if isinstance(df[i], list):\n",
    "        df[i] = sum(df[i])\n",
    "    else:\n",
    "        df[i] = dt[\"about_product\"].mean()\n",
    "dt[\"about_product\"] = pd.to_numeric(df, errors=\"coerce\")\n",
    "print(dt[\"about_product\"])\n",
    "\n",
    "\n",
    "df = dt[\"review_title\"]\n",
    "\n",
    "for i in df.index:\n",
    "    if isinstance(df[i], list):\n",
    "        df[i] = sum(df[i])\n",
    "    else:\n",
    "        df[i] = dt[\"review_title\"].mean()\n",
    "dt[\"review_title\"] = pd.to_numeric(df, errors=\"coerce\")\n",
    "print(dt[\"review_title\"])\n",
    "\n",
    "df = dt[\"review_content\"]\n",
    "\n",
    "for i in df.index:\n",
    "    if isinstance(df[i], list):\n",
    "        df[i] = sum(df[i])\n",
    "    else:\n",
    "        df[i] = dt[\"review_content\"].mean()\n",
    "dt[\"review_content\"] = pd.to_numeric(df, errors=\"coerce\")\n",
    "print(dt[\"review_content\"])"
   ]
  },
  {
   "cell_type": "markdown",
   "metadata": {
    "id": "Db9QO-YMCrYk"
   },
   "source": [
    "**CONVERTING PRODUCT NAME AND CATEGORY TO NUMERICAL**"
   ]
  },
  {
   "cell_type": "code",
   "execution_count": 17,
   "metadata": {
    "colab": {
     "base_uri": "https://localhost:8080/"
    },
    "id": "eGPZ2gcZCrop",
    "outputId": "4e84ea22-72e1-4ab1-9a4f-e8bf2e716479"
   },
   "outputs": [
    {
     "name": "stdout",
     "output_type": "stream",
     "text": [
      "product_name            object\n",
      "category                object\n",
      "discounted_price       float64\n",
      "actual_price           float64\n",
      "discount_percentage      int64\n",
      "rating                 float64\n",
      "rating_count             int64\n",
      "about_product          float64\n",
      "review_title           float64\n",
      "review_content         float64\n",
      "dtype: object\n",
      "product_name             int32\n",
      "category                 int32\n",
      "discounted_price       float64\n",
      "actual_price           float64\n",
      "discount_percentage      int64\n",
      "rating                 float64\n",
      "rating_count             int64\n",
      "about_product          float64\n",
      "review_title           float64\n",
      "review_content         float64\n",
      "dtype: object\n"
     ]
    }
   ],
   "source": [
    "print(dt.dtypes)\n",
    "# Label encoding\n",
    "from sklearn.preprocessing import LabelEncoder\n",
    "\n",
    "label_encoder = LabelEncoder()\n",
    "dt[\"product_name\"] = label_encoder.fit_transform(dt['product_name'])\n",
    "dt[\"product_name\"] = pd.to_numeric(dt[\"product_name\"], errors=\"coerce\")\n",
    "\n",
    "dt[\"category\"] = label_encoder.fit_transform(dt['category'])\n",
    "dt[\"category\"] = pd.to_numeric(dt[\"category\"], errors=\"coerce\")\n",
    "print(dt.dtypes)"
   ]
  },
  {
   "cell_type": "code",
   "execution_count": null,
   "metadata": {
    "id": "k6UvrnAmdXDm"
   },
   "outputs": [],
   "source": []
  },
  {
   "cell_type": "markdown",
   "metadata": {
    "id": "dhJz33O94EXw"
   },
   "source": [
    "**SPLITTING THE DATASET INTO DEPENDENT AND INDEPENDENT FEATURES**"
   ]
  },
  {
   "cell_type": "code",
   "execution_count": 18,
   "metadata": {
    "id": "HND62si-4EnR"
   },
   "outputs": [],
   "source": [
    "x = dt.drop(columns=[\"actual_price\"])\n",
    "y = dt[\"actual_price\"]"
   ]
  },
  {
   "cell_type": "markdown",
   "metadata": {
    "id": "8xunTHus4ldY"
   },
   "source": [
    "**DEFINING TRAINING AND TESTING DATA**"
   ]
  },
  {
   "cell_type": "code",
   "execution_count": 19,
   "metadata": {
    "colab": {
     "base_uri": "https://localhost:8080/"
    },
    "id": "v7S999D74lt0",
    "outputId": "7f7fe04a-6140-4a3f-ef9a-7e6137895717"
   },
   "outputs": [
    {
     "name": "stdout",
     "output_type": "stream",
     "text": [
      "1023 439 1023 439\n"
     ]
    }
   ],
   "source": [
    "x_train, x_test, y_train, y_test = train_test_split(x,y,test_size=0.3)\n",
    "print(len(x_train),len(x_test),len(y_train),len(y_test))"
   ]
  },
  {
   "cell_type": "markdown",
   "metadata": {
    "id": "TLFHVOgd46ty"
   },
   "source": [
    "**CREATING MODEL WITH XGBOOST REGRESSORt**"
   ]
  },
  {
   "cell_type": "code",
   "execution_count": 20,
   "metadata": {
    "id": "zEUJXhIU47Cw"
   },
   "outputs": [],
   "source": [
    "xgb_regr = XGBRegressor()"
   ]
  },
  {
   "cell_type": "markdown",
   "metadata": {
    "id": "2xJHviOl5LVW"
   },
   "source": [
    "**FITTING THE MODEL TO THE TRAINING DATA**"
   ]
  },
  {
   "cell_type": "code",
   "execution_count": 21,
   "metadata": {
    "colab": {
     "base_uri": "https://localhost:8080/",
     "height": 248
    },
    "id": "JINw1xeI5Ly4",
    "outputId": "3c33348b-bba8-496b-fc5e-a79b07778b28"
   },
   "outputs": [
    {
     "data": {
      "text/html": [
       "<style>#sk-container-id-1 {color: black;}#sk-container-id-1 pre{padding: 0;}#sk-container-id-1 div.sk-toggleable {background-color: white;}#sk-container-id-1 label.sk-toggleable__label {cursor: pointer;display: block;width: 100%;margin-bottom: 0;padding: 0.3em;box-sizing: border-box;text-align: center;}#sk-container-id-1 label.sk-toggleable__label-arrow:before {content: \"▸\";float: left;margin-right: 0.25em;color: #696969;}#sk-container-id-1 label.sk-toggleable__label-arrow:hover:before {color: black;}#sk-container-id-1 div.sk-estimator:hover label.sk-toggleable__label-arrow:before {color: black;}#sk-container-id-1 div.sk-toggleable__content {max-height: 0;max-width: 0;overflow: hidden;text-align: left;background-color: #f0f8ff;}#sk-container-id-1 div.sk-toggleable__content pre {margin: 0.2em;color: black;border-radius: 0.25em;background-color: #f0f8ff;}#sk-container-id-1 input.sk-toggleable__control:checked~div.sk-toggleable__content {max-height: 200px;max-width: 100%;overflow: auto;}#sk-container-id-1 input.sk-toggleable__control:checked~label.sk-toggleable__label-arrow:before {content: \"▾\";}#sk-container-id-1 div.sk-estimator input.sk-toggleable__control:checked~label.sk-toggleable__label {background-color: #d4ebff;}#sk-container-id-1 div.sk-label input.sk-toggleable__control:checked~label.sk-toggleable__label {background-color: #d4ebff;}#sk-container-id-1 input.sk-hidden--visually {border: 0;clip: rect(1px 1px 1px 1px);clip: rect(1px, 1px, 1px, 1px);height: 1px;margin: -1px;overflow: hidden;padding: 0;position: absolute;width: 1px;}#sk-container-id-1 div.sk-estimator {font-family: monospace;background-color: #f0f8ff;border: 1px dotted black;border-radius: 0.25em;box-sizing: border-box;margin-bottom: 0.5em;}#sk-container-id-1 div.sk-estimator:hover {background-color: #d4ebff;}#sk-container-id-1 div.sk-parallel-item::after {content: \"\";width: 100%;border-bottom: 1px solid gray;flex-grow: 1;}#sk-container-id-1 div.sk-label:hover label.sk-toggleable__label {background-color: #d4ebff;}#sk-container-id-1 div.sk-serial::before {content: \"\";position: absolute;border-left: 1px solid gray;box-sizing: border-box;top: 0;bottom: 0;left: 50%;z-index: 0;}#sk-container-id-1 div.sk-serial {display: flex;flex-direction: column;align-items: center;background-color: white;padding-right: 0.2em;padding-left: 0.2em;position: relative;}#sk-container-id-1 div.sk-item {position: relative;z-index: 1;}#sk-container-id-1 div.sk-parallel {display: flex;align-items: stretch;justify-content: center;background-color: white;position: relative;}#sk-container-id-1 div.sk-item::before, #sk-container-id-1 div.sk-parallel-item::before {content: \"\";position: absolute;border-left: 1px solid gray;box-sizing: border-box;top: 0;bottom: 0;left: 50%;z-index: -1;}#sk-container-id-1 div.sk-parallel-item {display: flex;flex-direction: column;z-index: 1;position: relative;background-color: white;}#sk-container-id-1 div.sk-parallel-item:first-child::after {align-self: flex-end;width: 50%;}#sk-container-id-1 div.sk-parallel-item:last-child::after {align-self: flex-start;width: 50%;}#sk-container-id-1 div.sk-parallel-item:only-child::after {width: 0;}#sk-container-id-1 div.sk-dashed-wrapped {border: 1px dashed gray;margin: 0 0.4em 0.5em 0.4em;box-sizing: border-box;padding-bottom: 0.4em;background-color: white;}#sk-container-id-1 div.sk-label label {font-family: monospace;font-weight: bold;display: inline-block;line-height: 1.2em;}#sk-container-id-1 div.sk-label-container {text-align: center;}#sk-container-id-1 div.sk-container {/* jupyter's `normalize.less` sets `[hidden] { display: none; }` but bootstrap.min.css set `[hidden] { display: none !important; }` so we also need the `!important` here to be able to override the default hidden behavior on the sphinx rendered scikit-learn.org. See: https://github.com/scikit-learn/scikit-learn/issues/21755 */display: inline-block !important;position: relative;}#sk-container-id-1 div.sk-text-repr-fallback {display: none;}</style><div id=\"sk-container-id-1\" class=\"sk-top-container\"><div class=\"sk-text-repr-fallback\"><pre>XGBRegressor(base_score=None, booster=None, callbacks=None,\n",
       "             colsample_bylevel=None, colsample_bynode=None,\n",
       "             colsample_bytree=None, device=None, early_stopping_rounds=None,\n",
       "             enable_categorical=False, eval_metric=None, feature_types=None,\n",
       "             gamma=None, grow_policy=None, importance_type=None,\n",
       "             interaction_constraints=None, learning_rate=None, max_bin=None,\n",
       "             max_cat_threshold=None, max_cat_to_onehot=None,\n",
       "             max_delta_step=None, max_depth=None, max_leaves=None,\n",
       "             min_child_weight=None, missing=nan, monotone_constraints=None,\n",
       "             multi_strategy=None, n_estimators=None, n_jobs=None,\n",
       "             num_parallel_tree=None, random_state=None, ...)</pre><b>In a Jupyter environment, please rerun this cell to show the HTML representation or trust the notebook. <br />On GitHub, the HTML representation is unable to render, please try loading this page with nbviewer.org.</b></div><div class=\"sk-container\" hidden><div class=\"sk-item\"><div class=\"sk-estimator sk-toggleable\"><input class=\"sk-toggleable__control sk-hidden--visually\" id=\"sk-estimator-id-1\" type=\"checkbox\" checked><label for=\"sk-estimator-id-1\" class=\"sk-toggleable__label sk-toggleable__label-arrow\">XGBRegressor</label><div class=\"sk-toggleable__content\"><pre>XGBRegressor(base_score=None, booster=None, callbacks=None,\n",
       "             colsample_bylevel=None, colsample_bynode=None,\n",
       "             colsample_bytree=None, device=None, early_stopping_rounds=None,\n",
       "             enable_categorical=False, eval_metric=None, feature_types=None,\n",
       "             gamma=None, grow_policy=None, importance_type=None,\n",
       "             interaction_constraints=None, learning_rate=None, max_bin=None,\n",
       "             max_cat_threshold=None, max_cat_to_onehot=None,\n",
       "             max_delta_step=None, max_depth=None, max_leaves=None,\n",
       "             min_child_weight=None, missing=nan, monotone_constraints=None,\n",
       "             multi_strategy=None, n_estimators=None, n_jobs=None,\n",
       "             num_parallel_tree=None, random_state=None, ...)</pre></div></div></div></div></div>"
      ],
      "text/plain": [
       "XGBRegressor(base_score=None, booster=None, callbacks=None,\n",
       "             colsample_bylevel=None, colsample_bynode=None,\n",
       "             colsample_bytree=None, device=None, early_stopping_rounds=None,\n",
       "             enable_categorical=False, eval_metric=None, feature_types=None,\n",
       "             gamma=None, grow_policy=None, importance_type=None,\n",
       "             interaction_constraints=None, learning_rate=None, max_bin=None,\n",
       "             max_cat_threshold=None, max_cat_to_onehot=None,\n",
       "             max_delta_step=None, max_depth=None, max_leaves=None,\n",
       "             min_child_weight=None, missing=nan, monotone_constraints=None,\n",
       "             multi_strategy=None, n_estimators=None, n_jobs=None,\n",
       "             num_parallel_tree=None, random_state=None, ...)"
      ]
     },
     "execution_count": 21,
     "metadata": {},
     "output_type": "execute_result"
    }
   ],
   "source": [
    "xgb_regr.fit(x_train,y_train)"
   ]
  },
  {
   "cell_type": "markdown",
   "metadata": {
    "id": "uArzn3vEDG25"
   },
   "source": [
    "**PREDICTIONS ON THE TEST SET**"
   ]
  },
  {
   "cell_type": "code",
   "execution_count": 22,
   "metadata": {
    "id": "4dv9pLI5DHOS"
   },
   "outputs": [],
   "source": [
    "y_pred = xgb_regr.predict(x_test)"
   ]
  },
  {
   "cell_type": "markdown",
   "metadata": {
    "id": "NgiIUQjkDbQP"
   },
   "source": [
    "**PERFORMANCE MEASURE CALCULATION**"
   ]
  },
  {
   "cell_type": "code",
   "execution_count": 23,
   "metadata": {
    "colab": {
     "base_uri": "https://localhost:8080/"
    },
    "id": "DlCyzthNDbeB",
    "outputId": "7610194e-3b34-4890-a493-b2e7a63a21ff"
   },
   "outputs": [
    {
     "name": "stdout",
     "output_type": "stream",
     "text": [
      "MAE: 297.19721931822477, MSE: 698440.5713543842, R-squared: 0.9934717944494367\n"
     ]
    }
   ],
   "source": [
    "from sklearn.metrics import mean_absolute_error, mean_squared_error, r2_score\n",
    "\n",
    "mae = mean_absolute_error(y_test, y_pred)\n",
    "mse = mean_squared_error(y_test, y_pred)\n",
    "r2 = r2_score(y_test, y_pred)\n",
    "\n",
    "print(f\"MAE: {mae}, MSE: {mse}, R-squared: {r2}\")\n"
   ]
  },
  {
   "cell_type": "markdown",
   "metadata": {
    "id": "JYXQeQwcGndc"
   },
   "source": []
  },
  {
   "cell_type": "code",
   "execution_count": 24,
   "metadata": {
    "colab": {
     "base_uri": "https://localhost:8080/"
    },
    "id": "eFKvHeGjGnqp",
    "outputId": "3c12bfdd-dc6e-4483-eb13-5be013523145"
   },
   "outputs": [],
   "source": [
    "def calculate_price(pn,cat,dpri,dperc,rate,rate_c,abp,rev_t,rev_c):\n",
    "    user_input = {\n",
    "        'product_name': pn,\n",
    "        'category': cat,\n",
    "        'discounted_price': dpri,\n",
    "        'discount_percentage': dperc,\n",
    "        'rating': rate,\n",
    "        'rating_count': rate_c,\n",
    "        'about_product': abp,\n",
    "        'review_title' : rev_t,\n",
    "        'review_content' : rev_c\n",
    "    }\n",
    "\n",
    "    # Convert user input to a DataFrame\n",
    "    user_dt = pd.DataFrame([user_input])\n",
    "    print(user_dt)\n",
    "    user_dt['product_name'] = user_dt['product_name'].apply(preprocess_text)\n",
    "    user_dt['product_name'] = user_dt['product_name'].apply(stem_text)\n",
    "    user_dt[\"product_name\"] = label_encoder.fit_transform(user_dt['product_name'])\n",
    "    user_dt[\"product_name\"] = pd.to_numeric(user_dt[\"product_name\"], errors=\"coerce\")\n",
    "\n",
    "    user_dt['category'] = user_dt['category'].apply(preprocess_text)\n",
    "    user_dt['category'] = user_dt['category'].apply(stem_text)\n",
    "    user_dt[\"category\"] = label_encoder.fit_transform(user_dt['category'])\n",
    "    user_dt[\"category\"] = pd.to_numeric(user_dt[\"category\"], errors=\"coerce\")\n",
    "\n",
    "    about_product_tfidf = tfidf_vectorizer.fit_transform(user_dt['about_product']).toarray()\n",
    "    about_product_df = pd.DataFrame(about_product_tfidf, columns=[f'about_product_{i}' for i in range(about_product_tfidf.shape[1])])\n",
    "    user_dt['about_product'] = about_product_df.values.tolist()\n",
    "    df = user_dt[\"about_product\"]\n",
    "\n",
    "    for i in df.index:\n",
    "        if isinstance(df[i], list):\n",
    "            df[i] = sum(df[i])\n",
    "        else:\n",
    "            df[i] = user_dt[\"about_product\"].mean()\n",
    "    user_dt[\"about_product\"] = pd.to_numeric(df, errors=\"coerce\")\n",
    "\n",
    "    user_dt['review_title'] = user_dt['review_title'].apply([preprocess_text])\n",
    "    user_dt['review_title'] = user_dt['review_title'].apply(stem_text)\n",
    "    review_title_tfidf = tfidf_vectorizer.fit_transform(user_dt['review_title']).toarray()\n",
    "    review_title_df = pd.DataFrame(review_title_tfidf, columns=[f'review_title_{i}' for i in range(review_title_tfidf.shape[1])])\n",
    "    user_dt['review_title'] = review_title_df.values.tolist()\n",
    "    df = user_dt[\"review_title\"]\n",
    "    for i in df.index:\n",
    "        if isinstance(df[i], list):\n",
    "            df[i] = sum(df[i])\n",
    "        else:\n",
    "            df[i] = user_dt[\"review_title\"].mean()\n",
    "    user_dt[\"review_title\"] = pd.to_numeric(df, errors=\"coerce\")\n",
    "\n",
    "\n",
    "    user_dt['review_content'] = user_dt['review_content'].apply(preprocess_text)\n",
    "    user_dt['review_content'] = user_dt['review_content'].apply(stem_text)\n",
    "    review_content_tfidf = tfidf_vectorizer.fit_transform(user_dt['review_content']).toarray()\n",
    "    review_content_df = pd.DataFrame(review_content_tfidf, columns=[f'review_content_{i}' for i in range(review_content_tfidf.shape[1])])\n",
    "    user_dt['review_content'] = review_content_df.values.tolist()\n",
    "    df = user_dt[\"review_content\"]\n",
    "    for i in df.index:\n",
    "        if isinstance(df[i], list):\n",
    "            df[i] = sum(df[i])\n",
    "        else:\n",
    "            df[i] = user_dt[\"review_content\"].mean()\n",
    "    user_dt[\"review_content\"] = pd.to_numeric(df, errors=\"coerce\")\n",
    "\n",
    "    #print(user_dt)\n",
    "    #print(user_dt.dtypes)\n",
    "\n",
    "    user_pred = xgb_regr.predict(user_dt)\n",
    "\n",
    "    print(\"Predicted Price:\", user_pred[0])\n",
    "    print(type(user_pred[0]))\n",
    "    return float(user_pred[0])"
   ]
  },
  {
   "cell_type": "code",
   "execution_count": 25,
   "metadata": {},
   "outputs": [],
   "source": [
    "import tkinter as tk\n",
    "from tkinter import ttk\n",
    "from tkinter import Text\n",
    "from tkinter import *\n",
    "\n",
    "def predict_price():\n",
    "    # Retrieve values from text fields\n",
    "    product_name = product_name_entry.get(\"1.0\", tk.END).strip()\n",
    "    category = category_entry.get(\"1.0\", tk.END).strip()\n",
    "    discounted_price = float(discounted_price_entry.get(\"1.0\", tk.END).strip())\n",
    "    discount_percentage = float(discount_percentage_entry.get(\"1.0\", tk.END).strip())\n",
    "    rating = float(rating_entry.get(\"1.0\", tk.END).strip())\n",
    "    rating_count = int(rating_count_entry.get(\"1.0\", tk.END).strip())\n",
    "    about_product = about_product_entry.get(\"1.0\", tk.END).strip()\n",
    "    review_title = review_title_entry.get(\"1.0\", tk.END).strip()\n",
    "    review_content = review_content_entry.get(\"1.0\", tk.END).strip()\n",
    "\n",
    "    # Include the code for prediction here\n",
    "    # You can use the retrieved values for prediction or any other processing\n",
    "\n",
    "    # For demonstration, printing the retrieved values\n",
    "    print(\"Product Name:\", product_name)\n",
    "    print(\"Category:\", category)\n",
    "    print(\"Discounted Price:\", discounted_price)\n",
    "    print(\"Discount Percentage:\", discount_percentage)\n",
    "    print(\"Rating:\", rating)\n",
    "    print(\"Rating Count:\", rating_count)\n",
    "    print(\"About Product:\", about_product)\n",
    "    print(\"Review Title:\", review_title)\n",
    "    print(\"Review Content:\", review_content)\n",
    "    final_price = calculate_price(product_name,category,discounted_price,discount_percentage,rating,rating_count,about_product,review_title, review_content)\n",
    "    predicted_price_var.set(f\"Recommended Price(INR): {final_price:.2f}\")\n",
    "\n",
    "# GUI Setup\n",
    "root = tk.Tk()\n",
    "root.title(\"Product Price Recommendation\")\n",
    "root.geometry(\"3000x3000\")  # Adjusted size\n",
    "root.configure(bg='#FFD700')  # Set background color to gold\n",
    "\n",
    "# Fonts\n",
    "font_style = (\"cursive\", 13, \"bold\")\n",
    "\n",
    "heading_label = ttk.Label(root, text=\"PRICE RECOMMENDATION FOR ONLINE SELLERS\", font=(\"arial\", 18, \"bold\"), background=\"green\", foreground=\"white\")\n",
    "heading_label.place(relx=0.5, rely=0.01, anchor=tk.CENTER)\n",
    "\n",
    "# Product Name\n",
    "product_name_label = ttk.Label(root, text=\"Product Name:\", font=font_style, background='#FFD700')\n",
    "product_name_label.grid(row=0, column=0, pady=(50, 10), padx=(200, 0), sticky=\"e\")\n",
    "\n",
    "product_name_entry = Text(root, font=font_style, width=\"80\", height=\"3\")\n",
    "product_name_entry.grid(row=0, column=1, pady=(50, 10), padx=(50, 10), sticky=\"w\", columnspan=2)\n",
    "\n",
    "# Category\n",
    "category_label = ttk.Label(root, text=\"Category:\", font=font_style, background='#FFD700')\n",
    "category_label.grid(row=1, column=0, pady=10, padx=(200, 0), sticky=\"e\")\n",
    "\n",
    "category_entry = Text(root, font=font_style,width=\"80\", height=\"3\")\n",
    "category_entry.grid(row=1, column=1, pady=10, padx=(50, 10), sticky=\"w\", columnspan=2)\n",
    "\n",
    "# Discounted Price\n",
    "discounted_price_label = ttk.Label(root, text=\"Discounted Price:\", font=font_style, background='#FFD700')\n",
    "discounted_price_label.grid(row=2, column=0, pady=10, padx=(200, 0), sticky=\"e\")\n",
    "\n",
    "discounted_price_entry = Text(root, font=font_style,width=\"50\", height=\"2\")\n",
    "discounted_price_entry.grid(row=2, column=1, pady=10, padx=(50, 10), sticky=\"w\", columnspan=2)\n",
    "\n",
    "# Discount Percentage\n",
    "discount_percentage_label = ttk.Label(root, text=\"Discount Percentage:\", font=font_style, background='#FFD700')\n",
    "discount_percentage_label.grid(row=3, column=0, pady=10, padx=(200, 0), sticky=\"e\")\n",
    "\n",
    "discount_percentage_entry = Text(root, font=font_style,width=\"50\", height=\"2\")\n",
    "discount_percentage_entry.grid(row=3, column=1, pady=10, padx=(50, 10), sticky=\"w\", columnspan=2)\n",
    "\n",
    "# Rating\n",
    "rating_label = ttk.Label(root, text=\"Rating:\", font=font_style, background='#FFD700')\n",
    "rating_label.grid(row=4, column=0, pady=10, padx=(200, 0), sticky=\"e\")\n",
    "\n",
    "rating_entry = Text(root, font=font_style, width=\"30\", height=\"2\")\n",
    "rating_entry.grid(row=4, column=1, pady=10, padx=(50, 10), sticky=\"w\", columnspan=2)\n",
    "\n",
    "# Rating Count\n",
    "rating_count_label = ttk.Label(root, text=\"Rating Count:\", font=font_style, background='#FFD700')\n",
    "rating_count_label.grid(row=5, column=0, pady=10, padx=(200, 0), sticky=\"e\")\n",
    "\n",
    "rating_count_entry = Text(root, font=font_style,width=\"30\", height=\"2\")\n",
    "rating_count_entry.grid(row=5, column=1, pady=10, padx=(50, 10), sticky=\"w\", columnspan=2)\n",
    "\n",
    "# About Product\n",
    "about_product_label = ttk.Label(root, text=\"About Product:\", font=font_style, background='#FFD700')\n",
    "about_product_label.grid(row=6, column=0, pady=10, padx=(200, 0), sticky=\"e\")\n",
    "\n",
    "about_product_entry = Text(root, font=font_style,width=\"80\", height=\"4\")\n",
    "about_product_entry.grid(row=6, column=1, pady=10, padx=(50, 10), sticky=\"w\", columnspan=2)\n",
    "\n",
    "# Review Title\n",
    "review_title_label = ttk.Label(root, text=\"Review Title:\", font=font_style, background='#FFD700')\n",
    "review_title_label.grid(row=7, column=0, pady=10, padx=(200, 0), sticky=\"e\")\n",
    "\n",
    "review_title_entry = Text(root, font=font_style, width=\"30\", height=\"2\")\n",
    "review_title_entry.grid(row=7, column=1, pady=10, padx=(50, 10), sticky=\"w\", columnspan=2)\n",
    "\n",
    "# Review Content\n",
    "review_content_label = ttk.Label(root, text=\"Review Content:\", font=font_style, background='#FFD700')\n",
    "review_content_label.grid(row=8, column=0, pady=10, padx=(200, 0), sticky=\"e\")\n",
    "\n",
    "review_content_entry = Text(root, font=font_style, width=\"80\", height=\"3\")\n",
    "review_content_entry.grid(row=8, column=1, pady=10, padx=(50, 10), sticky=\"w\", columnspan=2)\n",
    "\n",
    "# Predict Button\n",
    "predict_button = ttk.Button(root, text=\"Recommend Price\", command=predict_price, style='TButton')\n",
    "predict_button.grid(row=9, column=0, columnspan=3, pady=20)\n",
    "\n",
    "predicted_price_var = tk.StringVar()\n",
    "predicted_price_entry = ttk.Entry(root, textvariable=predicted_price_var, font=font_style, width=\"40\",state=\"readonly\", foreground=\"green\", background=\"white\")\n",
    "predicted_price_entry.grid(row=9, column=1, pady=20, padx=(700, 10), sticky=\"w\")\n",
    "\n",
    "# Run the GUI\n",
    "root.mainloop()\n"
   ]
  },
  {
   "cell_type": "code",
   "execution_count": null,
   "metadata": {},
   "outputs": [],
   "source": []
  }
 ],
 "metadata": {
  "colab": {
   "provenance": []
  },
  "kernelspec": {
   "display_name": "Python 3 (ipykernel)",
   "language": "python",
   "name": "python3"
  },
  "language_info": {
   "codemirror_mode": {
    "name": "ipython",
    "version": 3
   },
   "file_extension": ".py",
   "mimetype": "text/x-python",
   "name": "python",
   "nbconvert_exporter": "python",
   "pygments_lexer": "ipython3",
   "version": "3.9.18"
  }
 },
 "nbformat": 4,
 "nbformat_minor": 4
}
